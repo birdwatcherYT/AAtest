{
 "cells": [
  {
   "cell_type": "code",
   "execution_count": 1,
   "id": "5527d44a",
   "metadata": {},
   "outputs": [],
   "source": [
    "import pandas as pd\n",
    "import numpy as np\n",
    "from scipy.stats import norm\n",
    "import matplotlib.pyplot as plt\n",
    "from tqdm.notebook import tqdm"
   ]
  },
  {
   "cell_type": "code",
   "execution_count": 2,
   "id": "540b0de0",
   "metadata": {},
   "outputs": [],
   "source": [
    "import hashlib\n",
    "\n",
    "def test_group(x, seed, size):\n",
    "    hash_sha256 = hashlib.sha256(f\"{seed}_{x}\".encode())\n",
    "    return int(hash_sha256.hexdigest(), 16)%size"
   ]
  },
  {
   "cell_type": "markdown",
   "id": "ee8661de",
   "metadata": {},
   "source": [
    "# ログデータ"
   ]
  },
  {
   "cell_type": "code",
   "execution_count": 3,
   "id": "3ad7629b",
   "metadata": {},
   "outputs": [
    {
     "data": {
      "text/html": [
       "<div>\n",
       "<style scoped>\n",
       "    .dataframe tbody tr th:only-of-type {\n",
       "        vertical-align: middle;\n",
       "    }\n",
       "\n",
       "    .dataframe tbody tr th {\n",
       "        vertical-align: top;\n",
       "    }\n",
       "\n",
       "    .dataframe thead th {\n",
       "        text-align: right;\n",
       "    }\n",
       "</style>\n",
       "<table border=\"1\" class=\"dataframe\">\n",
       "  <thead>\n",
       "    <tr style=\"text-align: right;\">\n",
       "      <th></th>\n",
       "      <th>user_id</th>\n",
       "      <th>click</th>\n",
       "    </tr>\n",
       "  </thead>\n",
       "  <tbody>\n",
       "    <tr>\n",
       "      <th>0</th>\n",
       "      <td>0</td>\n",
       "      <td>1</td>\n",
       "    </tr>\n",
       "    <tr>\n",
       "      <th>1</th>\n",
       "      <td>0</td>\n",
       "      <td>1</td>\n",
       "    </tr>\n",
       "    <tr>\n",
       "      <th>2</th>\n",
       "      <td>0</td>\n",
       "      <td>1</td>\n",
       "    </tr>\n",
       "    <tr>\n",
       "      <th>3</th>\n",
       "      <td>0</td>\n",
       "      <td>1</td>\n",
       "    </tr>\n",
       "    <tr>\n",
       "      <th>4</th>\n",
       "      <td>0</td>\n",
       "      <td>1</td>\n",
       "    </tr>\n",
       "    <tr>\n",
       "      <th>...</th>\n",
       "      <td>...</td>\n",
       "      <td>...</td>\n",
       "    </tr>\n",
       "    <tr>\n",
       "      <th>4961982</th>\n",
       "      <td>9999</td>\n",
       "      <td>0</td>\n",
       "    </tr>\n",
       "    <tr>\n",
       "      <th>4961983</th>\n",
       "      <td>9999</td>\n",
       "      <td>0</td>\n",
       "    </tr>\n",
       "    <tr>\n",
       "      <th>4961984</th>\n",
       "      <td>9999</td>\n",
       "      <td>0</td>\n",
       "    </tr>\n",
       "    <tr>\n",
       "      <th>4961985</th>\n",
       "      <td>9999</td>\n",
       "      <td>0</td>\n",
       "    </tr>\n",
       "    <tr>\n",
       "      <th>4961986</th>\n",
       "      <td>9999</td>\n",
       "      <td>0</td>\n",
       "    </tr>\n",
       "  </tbody>\n",
       "</table>\n",
       "<p>4961987 rows × 2 columns</p>\n",
       "</div>"
      ],
      "text/plain": [
       "         user_id  click\n",
       "0              0      1\n",
       "1              0      1\n",
       "2              0      1\n",
       "3              0      1\n",
       "4              0      1\n",
       "...          ...    ...\n",
       "4961982     9999      0\n",
       "4961983     9999      0\n",
       "4961984     9999      0\n",
       "4961985     9999      0\n",
       "4961986     9999      0\n",
       "\n",
       "[4961987 rows x 2 columns]"
      ]
     },
     "execution_count": 3,
     "metadata": {},
     "output_type": "execute_result"
    }
   ],
   "source": [
    "rows=[]\n",
    "for i in range(10000):\n",
    "    impression=np.random.randint(1000)\n",
    "    click=np.random.randint(\n",
    "        impression+1 if np.random.randint(2) else int(np.sqrt(impression))+1\n",
    "    )\n",
    "    rows+=[{\"user_id\": i, \"click\": 1}]*click+[{\"user_id\": i, \"click\": 0}]*(impression-click)\n",
    "log=pd.DataFrame(rows)\n",
    "log"
   ]
  },
  {
   "cell_type": "markdown",
   "id": "3b166335",
   "metadata": {},
   "source": [
    "# 間違った分散"
   ]
  },
  {
   "cell_type": "code",
   "execution_count": 4,
   "id": "1bf379ab",
   "metadata": {},
   "outputs": [],
   "source": [
    "log[\"group\"]=log[\"user_id\"].map(lambda x: test_group(x, \"example\", size=2))"
   ]
  },
  {
   "cell_type": "code",
   "execution_count": 5,
   "id": "2357f632",
   "metadata": {},
   "outputs": [
    {
     "data": {
      "text/plain": [
       "group\n",
       "0    0.187910\n",
       "1    0.189427\n",
       "Name: click, dtype: float64"
      ]
     },
     "execution_count": 5,
     "metadata": {},
     "output_type": "execute_result"
    }
   ],
   "source": [
    "naive_var=log.groupby(\"group\")[\"click\"].var(ddof=1)\n",
    "naive_var"
   ]
  },
  {
   "cell_type": "code",
   "execution_count": 6,
   "id": "2d9e827a",
   "metadata": {},
   "outputs": [
    {
     "data": {
      "text/plain": [
       "group\n",
       "0    2489230\n",
       "1    2472757\n",
       "Name: click, dtype: int64"
      ]
     },
     "execution_count": 6,
     "metadata": {},
     "output_type": "execute_result"
    }
   ],
   "source": [
    "size=log.groupby(\"group\")[\"click\"].size()\n",
    "size"
   ]
  },
  {
   "cell_type": "code",
   "execution_count": 7,
   "id": "8c1cf599",
   "metadata": {},
   "outputs": [
    {
     "data": {
      "text/plain": [
       "0.00038999331153714373"
      ]
     },
     "execution_count": 7,
     "metadata": {},
     "output_type": "execute_result"
    }
   ],
   "source": [
    "np.sqrt((naive_var/size).sum())"
   ]
  },
  {
   "cell_type": "code",
   "execution_count": 8,
   "id": "64184c17",
   "metadata": {},
   "outputs": [
    {
     "data": {
      "text/plain": [
       "4.209592533114298e-15"
      ]
     },
     "execution_count": 8,
     "metadata": {},
     "output_type": "execute_result"
    }
   ],
   "source": [
    "# 間違った分散を使った検定: 有意差が出てしまう\n",
    "mean=log.groupby(\"group\")[\"click\"].mean()\n",
    "z=(mean[0]-mean[1])/np.sqrt((naive_var/size).sum())\n",
    "p=norm.cdf(-np.abs(z))*2\n",
    "p"
   ]
  },
  {
   "cell_type": "markdown",
   "id": "4a315caf",
   "metadata": {},
   "source": [
    "# ブートストラップ"
   ]
  },
  {
   "cell_type": "code",
   "execution_count": 9,
   "id": "9254b506",
   "metadata": {},
   "outputs": [
    {
     "data": {
      "text/html": [
       "<div>\n",
       "<style scoped>\n",
       "    .dataframe tbody tr th:only-of-type {\n",
       "        vertical-align: middle;\n",
       "    }\n",
       "\n",
       "    .dataframe tbody tr th {\n",
       "        vertical-align: top;\n",
       "    }\n",
       "\n",
       "    .dataframe thead th {\n",
       "        text-align: right;\n",
       "    }\n",
       "</style>\n",
       "<table border=\"1\" class=\"dataframe\">\n",
       "  <thead>\n",
       "    <tr style=\"text-align: right;\">\n",
       "      <th></th>\n",
       "      <th>user_id</th>\n",
       "      <th>impression</th>\n",
       "      <th>click</th>\n",
       "    </tr>\n",
       "  </thead>\n",
       "  <tbody>\n",
       "    <tr>\n",
       "      <th>0</th>\n",
       "      <td>0</td>\n",
       "      <td>290</td>\n",
       "      <td>16</td>\n",
       "    </tr>\n",
       "    <tr>\n",
       "      <th>1</th>\n",
       "      <td>1</td>\n",
       "      <td>551</td>\n",
       "      <td>17</td>\n",
       "    </tr>\n",
       "    <tr>\n",
       "      <th>2</th>\n",
       "      <td>2</td>\n",
       "      <td>209</td>\n",
       "      <td>3</td>\n",
       "    </tr>\n",
       "    <tr>\n",
       "      <th>3</th>\n",
       "      <td>3</td>\n",
       "      <td>300</td>\n",
       "      <td>16</td>\n",
       "    </tr>\n",
       "    <tr>\n",
       "      <th>4</th>\n",
       "      <td>4</td>\n",
       "      <td>873</td>\n",
       "      <td>261</td>\n",
       "    </tr>\n",
       "    <tr>\n",
       "      <th>...</th>\n",
       "      <td>...</td>\n",
       "      <td>...</td>\n",
       "      <td>...</td>\n",
       "    </tr>\n",
       "    <tr>\n",
       "      <th>9985</th>\n",
       "      <td>9995</td>\n",
       "      <td>112</td>\n",
       "      <td>89</td>\n",
       "    </tr>\n",
       "    <tr>\n",
       "      <th>9986</th>\n",
       "      <td>9996</td>\n",
       "      <td>202</td>\n",
       "      <td>73</td>\n",
       "    </tr>\n",
       "    <tr>\n",
       "      <th>9987</th>\n",
       "      <td>9997</td>\n",
       "      <td>522</td>\n",
       "      <td>475</td>\n",
       "    </tr>\n",
       "    <tr>\n",
       "      <th>9988</th>\n",
       "      <td>9998</td>\n",
       "      <td>896</td>\n",
       "      <td>327</td>\n",
       "    </tr>\n",
       "    <tr>\n",
       "      <th>9989</th>\n",
       "      <td>9999</td>\n",
       "      <td>155</td>\n",
       "      <td>126</td>\n",
       "    </tr>\n",
       "  </tbody>\n",
       "</table>\n",
       "<p>9990 rows × 3 columns</p>\n",
       "</div>"
      ],
      "text/plain": [
       "      user_id  impression  click\n",
       "0           0         290     16\n",
       "1           1         551     17\n",
       "2           2         209      3\n",
       "3           3         300     16\n",
       "4           4         873    261\n",
       "...       ...         ...    ...\n",
       "9985     9995         112     89\n",
       "9986     9996         202     73\n",
       "9987     9997         522    475\n",
       "9988     9998         896    327\n",
       "9989     9999         155    126\n",
       "\n",
       "[9990 rows x 3 columns]"
      ]
     },
     "execution_count": 9,
     "metadata": {},
     "output_type": "execute_result"
    }
   ],
   "source": [
    "# ランダム化単位で集計したテーブルを作成する\n",
    "df=log.groupby(\"user_id\")[\"click\"].agg([\"count\", \"sum\"]).rename(\n",
    "    columns={\"count\":\"impression\", \"sum\":\"click\"}).reset_index()\n",
    "df"
   ]
  },
  {
   "cell_type": "code",
   "execution_count": 10,
   "id": "a38b7594",
   "metadata": {},
   "outputs": [],
   "source": [
    "# 2つのグループに分ける\n",
    "df[\"group\"]=df[\"user_id\"].map(lambda x: test_group(x, \"example\", size=2))"
   ]
  },
  {
   "cell_type": "code",
   "execution_count": 11,
   "id": "ae13a2a0",
   "metadata": {},
   "outputs": [
    {
     "data": {
      "text/plain": [
       "group\n",
       "0    5031\n",
       "1    4959\n",
       "dtype: int64"
      ]
     },
     "execution_count": 11,
     "metadata": {},
     "output_type": "execute_result"
    }
   ],
   "source": [
    "df.groupby(\"group\").size()"
   ]
  },
  {
   "cell_type": "code",
   "execution_count": 12,
   "id": "cfef0a65",
   "metadata": {},
   "outputs": [],
   "source": [
    "def sampling_click_rate(df, group):\n",
    "    tmp=df[df[\"group\"]==group]\n",
    "    tmp=tmp.sample(n=tmp.shape[0], replace=True)\n",
    "    return tmp[\"click\"].sum()/tmp[\"impression\"].sum()"
   ]
  },
  {
   "cell_type": "code",
   "execution_count": 13,
   "id": "7f564695",
   "metadata": {},
   "outputs": [
    {
     "data": {
      "text/plain": [
       "0.007500048590579285"
      ]
     },
     "execution_count": 13,
     "metadata": {},
     "output_type": "execute_result"
    }
   ],
   "source": [
    "# 正しい標準偏差を推定\n",
    "diffs = [\n",
    "    sampling_click_rate(df, 0) - sampling_click_rate(df, 1)\n",
    "    for i in range(1000)\n",
    "]\n",
    "np.std(diffs, ddof=1)"
   ]
  },
  {
   "cell_type": "code",
   "execution_count": 14,
   "id": "3050bf43",
   "metadata": {},
   "outputs": [
    {
     "data": {
      "text/plain": [
       "0.6831902403499597"
      ]
     },
     "execution_count": 14,
     "metadata": {},
     "output_type": "execute_result"
    }
   ],
   "source": [
    "# 検定\n",
    "mean=df.groupby(\"group\")[\"click\"].sum()/df.groupby(\"group\")[\"impression\"].sum()\n",
    "z=(mean[0]-mean[1])/np.std(diffs, ddof=1)\n",
    "p=norm.cdf(-np.abs(z))*2\n",
    "p"
   ]
  },
  {
   "cell_type": "markdown",
   "id": "03184a70",
   "metadata": {},
   "source": [
    "# デルタ法"
   ]
  },
  {
   "cell_type": "code",
   "execution_count": 15,
   "id": "3fbf8be1",
   "metadata": {},
   "outputs": [],
   "source": [
    "def var_delta(df, group):\n",
    "    tmp=df[df[\"group\"]==group]\n",
    "    \n",
    "    meanX=tmp[\"click\"].mean()\n",
    "    meanY=tmp[\"impression\"].mean()\n",
    "    varX=tmp[\"click\"].var(ddof=1)\n",
    "    varY=tmp[\"impression\"].var(ddof=1)\n",
    "    covXY=np.cov(tmp[\"impression\"],tmp[\"click\"], ddof=1)[0,1]\n",
    "\n",
    "    return (varX/meanY**2 + meanX**2/meanY**4 * varY - 2*meanX/meanY**3 * covXY)/tmp.shape[0]"
   ]
  },
  {
   "cell_type": "code",
   "execution_count": 16,
   "id": "ea33119b",
   "metadata": {},
   "outputs": [
    {
     "data": {
      "text/plain": [
       "0.007218099140783204"
      ]
     },
     "execution_count": 16,
     "metadata": {},
     "output_type": "execute_result"
    }
   ],
   "source": [
    "# 正しい標準偏差を推定\n",
    "np.sqrt(var_delta(df, 0)+var_delta(df, 1))"
   ]
  },
  {
   "cell_type": "code",
   "execution_count": 17,
   "id": "d61bb84b",
   "metadata": {},
   "outputs": [
    {
     "data": {
      "text/plain": [
       "0.6715255852277127"
      ]
     },
     "execution_count": 17,
     "metadata": {},
     "output_type": "execute_result"
    }
   ],
   "source": [
    "# 検定\n",
    "mean=df.groupby(\"group\")[\"click\"].sum()/df.groupby(\"group\")[\"impression\"].sum()\n",
    "z=(mean[0]-mean[1])/np.sqrt(var_delta(df, 0)+var_delta(df, 1))\n",
    "p=norm.cdf(-np.abs(z))*2\n",
    "p"
   ]
  },
  {
   "cell_type": "markdown",
   "id": "ffae370d",
   "metadata": {},
   "source": [
    "# AA test"
   ]
  },
  {
   "cell_type": "markdown",
   "id": "894852a5",
   "metadata": {},
   "source": [
    "## 間違った分散を使った場合"
   ]
  },
  {
   "cell_type": "code",
   "execution_count": 18,
   "id": "8210f3b1",
   "metadata": {},
   "outputs": [
    {
     "data": {
      "application/vnd.jupyter.widget-view+json": {
       "model_id": "8b04976f815d4c158b5a666bfdc1a182",
       "version_major": 2,
       "version_minor": 0
      },
      "text/plain": [
       "  0%|          | 0/1000 [00:00<?, ?it/s]"
      ]
     },
     "metadata": {},
     "output_type": "display_data"
    }
   ],
   "source": [
    "p_value=[]\n",
    "users=log[\"user_id\"].unique()\n",
    "for i in tqdm(range(1000)):\n",
    "#     log[\"group\"]=log[\"user_id\"].map(lambda x: test_group(x, f\"example{i}\", size=2))\n",
    "#     naive_var=log.groupby(\"group\")[\"click\"].var(ddof=1)\n",
    "#     size=log.groupby(\"group\")[\"click\"].size()\n",
    "#     mean=log.groupby(\"group\")[\"click\"].mean()\n",
    "\n",
    "    groupA=log[\"user_id\"].isin([x for x in users if 0==test_group(x, f\"example{i}\", size=2)])\n",
    "    naive_varA=log.loc[groupA, \"click\"].var(ddof=1)\n",
    "    naive_varB=log.loc[~groupA, \"click\"].var(ddof=1)\n",
    "    sizeA=log.loc[groupA,\"click\"].shape[0]\n",
    "    sizeB=log.loc[~groupA,\"click\"].shape[0]\n",
    "    meanA=log.loc[groupA, \"click\"].mean()\n",
    "    meanB=log.loc[~groupA, \"click\"].mean()\n",
    "\n",
    "    z=(meanA-meanB)/np.sqrt((naive_varA/sizeA+naive_varB/sizeB).sum())\n",
    "    p=norm.cdf(-np.abs(z))*2\n",
    "    p_value.append(p)"
   ]
  },
  {
   "cell_type": "code",
   "execution_count": 19,
   "id": "af9598e3",
   "metadata": {},
   "outputs": [
    {
     "data": {
      "text/plain": [
       "(array([921.,  17.,  12.,   6.,   6.,  12.,   3.,   7.,   8.,   8.]),\n",
       " array([0.        , 0.09777707, 0.19555413, 0.2933312 , 0.39110827,\n",
       "        0.48888534, 0.5866624 , 0.68443947, 0.78221654, 0.87999361,\n",
       "        0.97777067]),\n",
       " <BarContainer object of 10 artists>)"
      ]
     },
     "execution_count": 19,
     "metadata": {},
     "output_type": "execute_result"
    },
    {
     "data": {
      "image/png": "[encoded data removed]",
      "text/plain": [
       "<Figure size 640x480 with 1 Axes>"
      ]
     },
     "metadata": {},
     "output_type": "display_data"
    }
   ],
   "source": [
    "plt.hist(p_value, bins=10)"
   ]
  },
  {
   "cell_type": "markdown",
   "id": "3ab757a8",
   "metadata": {},
   "source": [
    "## 正しい分散を使った場合"
   ]
  },
  {
   "cell_type": "code",
   "execution_count": 20,
   "id": "a1a70a7a",
   "metadata": {},
   "outputs": [
    {
     "data": {
      "application/vnd.jupyter.widget-view+json": {
       "model_id": "7e371ace3a204285a38a5d1075988bfa",
       "version_major": 2,
       "version_minor": 0
      },
      "text/plain": [
       "  0%|          | 0/1000 [00:00<?, ?it/s]"
      ]
     },
     "metadata": {},
     "output_type": "display_data"
    }
   ],
   "source": [
    "p_value=[]\n",
    "for i in tqdm(range(1000)):\n",
    "    df[\"group\"]=df[\"user_id\"].map(lambda x: test_group(x, f\"example{i}\", size=2))\n",
    "    mean=df.groupby(\"group\")[\"click\"].sum()/df.groupby(\"group\")[\"impression\"].sum()\n",
    "    z=(mean[0]-mean[1])/np.sqrt(var_delta(df, 0)+var_delta(df, 1))\n",
    "    p=norm.cdf(-np.abs(z))*2\n",
    "    p_value.append(p)"
   ]
  },
  {
   "cell_type": "code",
   "execution_count": 21,
   "id": "77c79a66",
   "metadata": {},
   "outputs": [
    {
     "data": {
      "text/plain": [
       "(array([105.,  99.,  97., 101.,  91., 111.,  98.,  99.,  93., 106.]),\n",
       " array([0.00105882, 0.10083281, 0.20060681, 0.30038081, 0.40015481,\n",
       "        0.4999288 , 0.5997028 , 0.6994768 , 0.79925079, 0.89902479,\n",
       "        0.99879879]),\n",
       " <BarContainer object of 10 artists>)"
      ]
     },
     "execution_count": 21,
     "metadata": {},
     "output_type": "execute_result"
    },
    {
     "data": {
      "image/png": "[encoded data removed]",
      "text/plain": [
       "<Figure size 640x480 with 1 Axes>"
      ]
     },
     "metadata": {},
     "output_type": "display_data"
    }
   ],
   "source": [
    "plt.hist(p_value, bins=10)"
   ]
  },
  {
   "cell_type": "code",
   "execution_count": null,
   "id": "9e357603",
   "metadata": {},
   "outputs": [],
   "source": []
  }
 ],
 "metadata": {
  "kernelspec": {
   "display_name": "Python 3 (ipykernel)",
   "language": "python",
   "name": "python3"
  },
  "language_info": {
   "codemirror_mode": {
    "name": "ipython",
    "version": 3
   },
   "file_extension": ".py",
   "mimetype": "text/x-python",
   "name": "python",
   "nbconvert_exporter": "python",
   "pygments_lexer": "ipython3",
   "version": "3.9.13"
  }
 },
 "nbformat": 4,
 "nbformat_minor": 5
}
