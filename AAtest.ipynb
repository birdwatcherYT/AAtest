{
 "cells": [
  {
   "cell_type": "code",
   "execution_count": 1,
   "id": "5527d44a",
   "metadata": {},
   "outputs": [],
   "source": [
    "import pandas as pd\n",
    "import numpy as np\n",
    "from scipy.stats import norm"
   ]
  },
  {
   "cell_type": "code",
   "execution_count": 2,
   "id": "540b0de0",
   "metadata": {},
   "outputs": [],
   "source": [
    "import hashlib\n",
    "\n",
    "def test_group(x, seed, size):\n",
    "    hash_sha256 = hashlib.sha256(f\"{seed}_{x}\".encode())\n",
    "    return int(hash_sha256.hexdigest(), 16)%size"
   ]
  },
  {
   "cell_type": "markdown",
   "id": "ee8661de",
   "metadata": {},
   "source": [
    "# ログデータ"
   ]
  },
  {
   "cell_type": "code",
   "execution_count": 3,
   "id": "3ad7629b",
   "metadata": {},
   "outputs": [
    {
     "data": {
      "text/html": [
       "<div>\n",
       "<style scoped>\n",
       "    .dataframe tbody tr th:only-of-type {\n",
       "        vertical-align: middle;\n",
       "    }\n",
       "\n",
       "    .dataframe tbody tr th {\n",
       "        vertical-align: top;\n",
       "    }\n",
       "\n",
       "    .dataframe thead th {\n",
       "        text-align: right;\n",
       "    }\n",
       "</style>\n",
       "<table border=\"1\" class=\"dataframe\">\n",
       "  <thead>\n",
       "    <tr style=\"text-align: right;\">\n",
       "      <th></th>\n",
       "      <th>user_id</th>\n",
       "      <th>click</th>\n",
       "    </tr>\n",
       "  </thead>\n",
       "  <tbody>\n",
       "    <tr>\n",
       "      <th>0</th>\n",
       "      <td>0</td>\n",
       "      <td>1</td>\n",
       "    </tr>\n",
       "    <tr>\n",
       "      <th>1</th>\n",
       "      <td>0</td>\n",
       "      <td>1</td>\n",
       "    </tr>\n",
       "    <tr>\n",
       "      <th>2</th>\n",
       "      <td>0</td>\n",
       "      <td>1</td>\n",
       "    </tr>\n",
       "    <tr>\n",
       "      <th>3</th>\n",
       "      <td>0</td>\n",
       "      <td>1</td>\n",
       "    </tr>\n",
       "    <tr>\n",
       "      <th>4</th>\n",
       "      <td>0</td>\n",
       "      <td>1</td>\n",
       "    </tr>\n",
       "    <tr>\n",
       "      <th>...</th>\n",
       "      <td>...</td>\n",
       "      <td>...</td>\n",
       "    </tr>\n",
       "    <tr>\n",
       "      <th>5005826</th>\n",
       "      <td>9999</td>\n",
       "      <td>0</td>\n",
       "    </tr>\n",
       "    <tr>\n",
       "      <th>5005827</th>\n",
       "      <td>9999</td>\n",
       "      <td>0</td>\n",
       "    </tr>\n",
       "    <tr>\n",
       "      <th>5005828</th>\n",
       "      <td>9999</td>\n",
       "      <td>0</td>\n",
       "    </tr>\n",
       "    <tr>\n",
       "      <th>5005829</th>\n",
       "      <td>9999</td>\n",
       "      <td>0</td>\n",
       "    </tr>\n",
       "    <tr>\n",
       "      <th>5005830</th>\n",
       "      <td>9999</td>\n",
       "      <td>0</td>\n",
       "    </tr>\n",
       "  </tbody>\n",
       "</table>\n",
       "<p>5005831 rows × 2 columns</p>\n",
       "</div>"
      ],
      "text/plain": [
       "         user_id  click\n",
       "0              0      1\n",
       "1              0      1\n",
       "2              0      1\n",
       "3              0      1\n",
       "4              0      1\n",
       "...          ...    ...\n",
       "5005826     9999      0\n",
       "5005827     9999      0\n",
       "5005828     9999      0\n",
       "5005829     9999      0\n",
       "5005830     9999      0\n",
       "\n",
       "[5005831 rows x 2 columns]"
      ]
     },
     "execution_count": 3,
     "metadata": {},
     "output_type": "execute_result"
    }
   ],
   "source": [
    "rows=[]\n",
    "for i in range(10000):\n",
    "    impression=np.random.randint(1000)\n",
    "    click=np.random.randint(\n",
    "        impression+1 if np.random.randint(2) else int(np.sqrt(impression))+1\n",
    "    )\n",
    "    rows+=[{\"user_id\": i, \"click\": 1}]*click+[{\"user_id\": i, \"click\": 0}]*(impression-click)\n",
    "log=pd.DataFrame(rows)\n",
    "log"
   ]
  },
  {
   "cell_type": "markdown",
   "id": "3b166335",
   "metadata": {},
   "source": [
    "# 間違った分散"
   ]
  },
  {
   "cell_type": "code",
   "execution_count": 4,
   "id": "1bf379ab",
   "metadata": {},
   "outputs": [],
   "source": [
    "log[\"group\"]=log[\"user_id\"].map(lambda x: test_group(x, \"example\", size=2))"
   ]
  },
  {
   "cell_type": "code",
   "execution_count": 5,
   "id": "2357f632",
   "metadata": {},
   "outputs": [
    {
     "data": {
      "text/plain": [
       "group\n",
       "0    0.187713\n",
       "1    0.192405\n",
       "Name: click, dtype: float64"
      ]
     },
     "execution_count": 5,
     "metadata": {},
     "output_type": "execute_result"
    }
   ],
   "source": [
    "naive_var=log.groupby(\"group\")[\"click\"].var(ddof=1)\n",
    "naive_var"
   ]
  },
  {
   "cell_type": "code",
   "execution_count": 6,
   "id": "2d9e827a",
   "metadata": {},
   "outputs": [
    {
     "data": {
      "text/plain": [
       "group\n",
       "0    2515694\n",
       "1    2490137\n",
       "Name: click, dtype: int64"
      ]
     },
     "execution_count": 6,
     "metadata": {},
     "output_type": "execute_result"
    }
   ],
   "source": [
    "size=log.groupby(\"group\")[\"click\"].size()\n",
    "size"
   ]
  },
  {
   "cell_type": "code",
   "execution_count": 7,
   "id": "8c1cf599",
   "metadata": {},
   "outputs": [
    {
     "data": {
      "text/plain": [
       "0.00038972230109674433"
      ]
     },
     "execution_count": 7,
     "metadata": {},
     "output_type": "execute_result"
    }
   ],
   "source": [
    "np.sqrt((naive_var/size).sum())"
   ]
  },
  {
   "cell_type": "code",
   "execution_count": 8,
   "id": "64184c17",
   "metadata": {},
   "outputs": [
    {
     "data": {
      "text/plain": [
       "1.5566062339444403e-133"
      ]
     },
     "execution_count": 8,
     "metadata": {},
     "output_type": "execute_result"
    }
   ],
   "source": [
    "# 間違った分散を使った検定: 有意差が出てしまう\n",
    "mean=log.groupby(\"group\")[\"click\"].mean()\n",
    "z=(mean[0]-mean[1])/np.sqrt((naive_var/size).sum())\n",
    "p=norm.cdf(-np.abs(z))*2\n",
    "p"
   ]
  },
  {
   "cell_type": "markdown",
   "id": "4a315caf",
   "metadata": {},
   "source": [
    "# ブートストラップ"
   ]
  },
  {
   "cell_type": "code",
   "execution_count": 9,
   "id": "9254b506",
   "metadata": {},
   "outputs": [
    {
     "data": {
      "text/html": [
       "<div>\n",
       "<style scoped>\n",
       "    .dataframe tbody tr th:only-of-type {\n",
       "        vertical-align: middle;\n",
       "    }\n",
       "\n",
       "    .dataframe tbody tr th {\n",
       "        vertical-align: top;\n",
       "    }\n",
       "\n",
       "    .dataframe thead th {\n",
       "        text-align: right;\n",
       "    }\n",
       "</style>\n",
       "<table border=\"1\" class=\"dataframe\">\n",
       "  <thead>\n",
       "    <tr style=\"text-align: right;\">\n",
       "      <th></th>\n",
       "      <th>user_id</th>\n",
       "      <th>impression</th>\n",
       "      <th>click</th>\n",
       "    </tr>\n",
       "  </thead>\n",
       "  <tbody>\n",
       "    <tr>\n",
       "      <th>0</th>\n",
       "      <td>0</td>\n",
       "      <td>775</td>\n",
       "      <td>6</td>\n",
       "    </tr>\n",
       "    <tr>\n",
       "      <th>1</th>\n",
       "      <td>1</td>\n",
       "      <td>821</td>\n",
       "      <td>17</td>\n",
       "    </tr>\n",
       "    <tr>\n",
       "      <th>2</th>\n",
       "      <td>2</td>\n",
       "      <td>122</td>\n",
       "      <td>33</td>\n",
       "    </tr>\n",
       "    <tr>\n",
       "      <th>3</th>\n",
       "      <td>3</td>\n",
       "      <td>236</td>\n",
       "      <td>99</td>\n",
       "    </tr>\n",
       "    <tr>\n",
       "      <th>4</th>\n",
       "      <td>4</td>\n",
       "      <td>725</td>\n",
       "      <td>20</td>\n",
       "    </tr>\n",
       "    <tr>\n",
       "      <th>...</th>\n",
       "      <td>...</td>\n",
       "      <td>...</td>\n",
       "      <td>...</td>\n",
       "    </tr>\n",
       "    <tr>\n",
       "      <th>9984</th>\n",
       "      <td>9995</td>\n",
       "      <td>176</td>\n",
       "      <td>151</td>\n",
       "    </tr>\n",
       "    <tr>\n",
       "      <th>9985</th>\n",
       "      <td>9996</td>\n",
       "      <td>772</td>\n",
       "      <td>674</td>\n",
       "    </tr>\n",
       "    <tr>\n",
       "      <th>9986</th>\n",
       "      <td>9997</td>\n",
       "      <td>191</td>\n",
       "      <td>114</td>\n",
       "    </tr>\n",
       "    <tr>\n",
       "      <th>9987</th>\n",
       "      <td>9998</td>\n",
       "      <td>142</td>\n",
       "      <td>64</td>\n",
       "    </tr>\n",
       "    <tr>\n",
       "      <th>9988</th>\n",
       "      <td>9999</td>\n",
       "      <td>59</td>\n",
       "      <td>27</td>\n",
       "    </tr>\n",
       "  </tbody>\n",
       "</table>\n",
       "<p>9989 rows × 3 columns</p>\n",
       "</div>"
      ],
      "text/plain": [
       "      user_id  impression  click\n",
       "0           0         775      6\n",
       "1           1         821     17\n",
       "2           2         122     33\n",
       "3           3         236     99\n",
       "4           4         725     20\n",
       "...       ...         ...    ...\n",
       "9984     9995         176    151\n",
       "9985     9996         772    674\n",
       "9986     9997         191    114\n",
       "9987     9998         142     64\n",
       "9988     9999          59     27\n",
       "\n",
       "[9989 rows x 3 columns]"
      ]
     },
     "execution_count": 9,
     "metadata": {},
     "output_type": "execute_result"
    }
   ],
   "source": [
    "# ランダム化単位で集計したテーブルを作成する\n",
    "df=log.groupby(\"user_id\")[\"click\"].agg([\"count\", \"sum\"]).rename(\n",
    "    columns={\"count\":\"impression\", \"sum\":\"click\"}).reset_index()\n",
    "df"
   ]
  },
  {
   "cell_type": "code",
   "execution_count": 10,
   "id": "a38b7594",
   "metadata": {},
   "outputs": [],
   "source": [
    "# 2つのグループに分ける\n",
    "df[\"group\"]=df[\"user_id\"].map(lambda x: test_group(x, \"example\", size=2))"
   ]
  },
  {
   "cell_type": "code",
   "execution_count": 11,
   "id": "ae13a2a0",
   "metadata": {},
   "outputs": [
    {
     "data": {
      "text/plain": [
       "group\n",
       "0    5030\n",
       "1    4959\n",
       "dtype: int64"
      ]
     },
     "execution_count": 11,
     "metadata": {},
     "output_type": "execute_result"
    }
   ],
   "source": [
    "df.groupby(\"group\").size()"
   ]
  },
  {
   "cell_type": "code",
   "execution_count": 12,
   "id": "cfef0a65",
   "metadata": {},
   "outputs": [],
   "source": [
    "def sampling_click_rate(df, group):\n",
    "    tmp=df[df[\"group\"]==group]\n",
    "    tmp=tmp.sample(n=tmp.shape[0], replace=True)\n",
    "    return tmp[\"click\"].sum()/tmp[\"impression\"].sum()"
   ]
  },
  {
   "cell_type": "code",
   "execution_count": 13,
   "id": "7f564695",
   "metadata": {},
   "outputs": [
    {
     "data": {
      "text/plain": [
       "0.007097540247443568"
      ]
     },
     "execution_count": 13,
     "metadata": {},
     "output_type": "execute_result"
    }
   ],
   "source": [
    "# 正しい標準偏差を推定\n",
    "diffs = [\n",
    "    sampling_click_rate(df, 0) - sampling_click_rate(df, 1)\n",
    "    for i in range(1000)\n",
    "]\n",
    "np.std(diffs, ddof=1)"
   ]
  },
  {
   "cell_type": "code",
   "execution_count": 14,
   "id": "3050bf43",
   "metadata": {},
   "outputs": [
    {
     "data": {
      "text/plain": [
       "0.17691725047652063"
      ]
     },
     "execution_count": 14,
     "metadata": {},
     "output_type": "execute_result"
    }
   ],
   "source": [
    "# 検定\n",
    "z=(mean[0]-mean[1])/np.std(diffs, ddof=1)\n",
    "p=norm.cdf(-np.abs(z))*2\n",
    "p"
   ]
  },
  {
   "cell_type": "markdown",
   "id": "03184a70",
   "metadata": {},
   "source": [
    "# デルタ法"
   ]
  },
  {
   "cell_type": "code",
   "execution_count": 15,
   "id": "3fbf8be1",
   "metadata": {},
   "outputs": [],
   "source": [
    "def var_delta(df, group):\n",
    "    tmp=df[df[\"group\"]==group]\n",
    "    \n",
    "    meanX=tmp[\"click\"].mean()\n",
    "    meanY=tmp[\"impression\"].mean()\n",
    "    varX=tmp[\"click\"].var(ddof=1)\n",
    "    varY=tmp[\"impression\"].var(ddof=1)\n",
    "    covXY=np.cov(tmp[\"impression\"],tmp[\"click\"], ddof=1)[0,1]\n",
    "\n",
    "    return (varX/meanY**2 + meanX**2/meanY**4 * varY - 2*meanX/meanY**3 * covXY)/tmp.shape[0]"
   ]
  },
  {
   "cell_type": "code",
   "execution_count": 16,
   "id": "ea33119b",
   "metadata": {},
   "outputs": [
    {
     "data": {
      "text/plain": [
       "0.007181788719058018"
      ]
     },
     "execution_count": 16,
     "metadata": {},
     "output_type": "execute_result"
    }
   ],
   "source": [
    "# 正しい標準偏差を推定\n",
    "np.sqrt(var_delta(df, 0)+var_delta(df, 1))"
   ]
  },
  {
   "cell_type": "code",
   "execution_count": 17,
   "id": "d61bb84b",
   "metadata": {},
   "outputs": [
    {
     "data": {
      "text/plain": [
       "0.18205065546297083"
      ]
     },
     "execution_count": 17,
     "metadata": {},
     "output_type": "execute_result"
    }
   ],
   "source": [
    "# 検定\n",
    "z=(mean[0]-mean[1])/np.sqrt(var_delta(df, 0)+var_delta(df, 1))\n",
    "p=norm.cdf(-np.abs(z))*2\n",
    "p"
   ]
  },
  {
   "cell_type": "code",
   "execution_count": null,
   "id": "827a6bc3",
   "metadata": {},
   "outputs": [],
   "source": []
  }
 ],
 "metadata": {
  "kernelspec": {
   "display_name": "Python 3 (ipykernel)",
   "language": "python",
   "name": "python3"
  },
  "language_info": {
   "codemirror_mode": {
    "name": "ipython",
    "version": 3
   },
   "file_extension": ".py",
   "mimetype": "text/x-python",
   "name": "python",
   "nbconvert_exporter": "python",
   "pygments_lexer": "ipython3",
   "version": "3.9.13"
  }
 },
 "nbformat": 4,
 "nbformat_minor": 5
}
